{
 "cells": [
  {
   "cell_type": "markdown",
   "metadata": {},
   "source": [
    "I have a box of dice with 4,6,8, and 12 sides, the same number of each.\n",
    "\n",
    "I choose one at random, roll it twice without showing, and report that I got the same outcome both times.\n",
    "\n",
    "I roll the same die again, what is the probability I get the same outcome a third time?"
   ]
  },
  {
   "cell_type": "code",
   "execution_count": 1,
   "metadata": {},
   "outputs": [],
   "source": [
    "import numpy as np\n",
    "import random"
   ]
  },
  {
   "cell_type": "code",
   "execution_count": 2,
   "metadata": {},
   "outputs": [],
   "source": [
    "#box of dice, aka list of lists\n",
    "dieFour = [1,2,3,4]\n",
    "dieSix = [1,2,3,4,5,6]\n",
    "dieEight = [1,2,3,4,5,6,7,8]\n",
    "dieTwelve = [1,2,3,4,5,6,7,8,9,10,11,12]\n",
    "allDie = [dieFour, dieSix, dieEight, dieTwelve]"
   ]
  },
  {
   "cell_type": "code",
   "execution_count": 3,
   "metadata": {},
   "outputs": [],
   "source": [
    "results = []\n",
    "\n",
    "sims = range(1, 1000000, 1)\n",
    "for s in sims:\n",
    "    outcome = []\n",
    "    #choose a die at random\n",
    "    choice = allDie[random.randint(0, 3)]\n",
    "\n",
    "    #roll it twice without showing\n",
    "    firstRoll = choice[random.randint(0, len(choice) - 1)]\n",
    "    outcome.append(firstRoll)\n",
    "    secondRoll = choice[random.randint(0, len(choice) - 1)]\n",
    "    outcome.append(secondRoll)\n",
    "    \n",
    "    #determine if first two die match, then roll the third\n",
    "    if outcome[0] == outcome[1]:\n",
    "        thirdRoll = choice[random.randint(0, len(choice) - 1)]\n",
    "        outcome.append(thirdRoll)\n",
    "        if outcome[0] == outcome[1] == outcome[2]:\n",
    "            results.append(\"Double\")\n",
    "        else:\n",
    "            results.append(\"Miss\")"
   ]
  },
  {
   "cell_type": "code",
   "execution_count": 4,
   "metadata": {},
   "outputs": [],
   "source": [
    "#tally the results\n",
    "countDouble = 0\n",
    "countMiss = 0\n",
    "for r in results:\n",
    "    if r == \"Miss\":\n",
    "        countMiss += 1\n",
    "    else:\n",
    "        countDouble += 1"
   ]
  },
  {
   "cell_type": "code",
   "execution_count": 5,
   "metadata": {},
   "outputs": [],
   "source": [
    "prob = str(np.round(countDouble / (countDouble + countMiss) * 100, 3)) +\"%\""
   ]
  },
  {
   "cell_type": "code",
   "execution_count": 7,
   "metadata": {},
   "outputs": [
    {
     "name": "stdout",
     "output_type": "stream",
     "text": [
      "The probability of getting the same outcome three times in a row is: 18.069%\n"
     ]
    }
   ],
   "source": [
    "print(\"The probability of getting the same outcome three times in a row is: \" + prob)"
   ]
  },
  {
   "cell_type": "code",
   "execution_count": null,
   "metadata": {},
   "outputs": [],
   "source": []
  }
 ],
 "metadata": {
  "kernelspec": {
   "display_name": "py36",
   "language": "python",
   "name": "py36"
  },
  "language_info": {
   "codemirror_mode": {
    "name": "ipython",
    "version": 3
   },
   "file_extension": ".py",
   "mimetype": "text/x-python",
   "name": "python",
   "nbconvert_exporter": "python",
   "pygments_lexer": "ipython3",
   "version": "3.6.1"
  }
 },
 "nbformat": 4,
 "nbformat_minor": 2
}
